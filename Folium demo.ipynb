{
 "cells": [
  {
   "cell_type": "code",
   "execution_count": 257,
   "metadata": {},
   "outputs": [],
   "source": [
    "import folium\n",
    "import pandas as pd\n",
    "import sys\n",
    "import json\n",
    "import csv \n",
    "import os\n",
    "from IPython.display import HTML\n",
    "import math\n",
    "import time\n",
    "from selenium import webdriver"
   ]
  },
  {
   "cell_type": "code",
   "execution_count": 263,
   "metadata": {},
   "outputs": [
    {
     "data": {
      "text/plain": [
       "'C:\\\\Users\\\\laslo\\\\OneDrive\\\\Documents\\\\Maria\\\\MapAnimation\\\\map_html'"
      ]
     },
     "execution_count": 263,
     "metadata": {},
     "output_type": "execute_result"
    }
   ],
   "source": [
    "base_loc = os.path.join('C:\\\\','Users','laslo','OneDrive','Documents','Maria','MapAnimation')\n",
    "    \n",
    "raw_loc = os.path.join('..','EconomicPredictions','Maps','RawData')\n",
    "clean_loc = os.path.join('..','EconomicPredictions','Maps','static','assets','geojson')\n",
    "map_html = os.path.join(base_loc,'map_html')\n",
    "map_png = os.path.join(base_loc,'map_png')\n",
    "map_html"
   ]
  },
  {
   "cell_type": "code",
   "execution_count": 135,
   "metadata": {},
   "outputs": [
    {
     "name": "stdout",
     "output_type": "stream",
     "text": [
      "Original Column Names:\n",
      "Index(['Region Name', 'Region Code', '1976 January', '1976 February',\n",
      "       '1976 March', '1976 April', '1976 May', '1976 June', '1976 July',\n",
      "       '1976 August',\n",
      "       ...\n",
      "       '2018 October', '2018 November', '2018 December', '2019 January',\n",
      "       '2019 February', '2019 March', '2019 April', '2019 May', '2019 June',\n",
      "       '2019 July'],\n",
      "      dtype='object', length=525)\n",
      "Renamed Column Names:\n",
      "['DROP', 'FIPS', 'DROP', 'DROP', 'DROP', 'DROP', 'DROP', 'DROP', 'DROP', 'DROP', 'DROP', 'DROP', 'DROP', 'DROP', 'DROP', 'DROP', 'DROP', 'DROP', 'DROP', 'DROP', 'DROP', 'DROP', 'DROP', 'DROP', 'DROP', 'DROP', 'DROP', 'DROP', 'DROP', 'DROP', 'DROP', 'DROP', 'DROP', 'DROP', 'DROP', 'DROP', 'DROP', 'DROP', 'DROP', 'DROP', 'DROP', 'DROP', 'DROP', 'DROP', 'DROP', 'DROP', 'DROP', 'DROP', 'DROP', 'DROP', 'DROP', 'DROP', 'DROP', 'DROP', 'DROP', 'DROP', 'DROP', 'DROP', 'DROP', 'DROP', 'DROP', 'DROP', 'DROP', 'DROP', 'DROP', 'DROP', 'DROP', 'DROP', 'DROP', 'DROP', 'DROP', 'DROP', 'DROP', 'DROP', 'DROP', 'DROP', 'DROP', 'DROP', 'DROP', 'DROP', 'DROP', 'DROP', 'DROP', 'DROP', 'DROP', 'DROP', 'DROP', 'DROP', 'DROP', 'DROP', 'DROP', 'DROP', 'DROP', 'DROP', 'DROP', 'DROP', 'DROP', 'DROP', 'DROP', 'DROP', 'DROP', 'DROP', 'DROP', 'DROP', 'DROP', 'DROP', 'DROP', 'DROP', 'DROP', 'DROP', 'DROP', 'DROP', 'DROP', 'DROP', 'DROP', 'DROP', 'DROP', 'DROP', 'DROP', 'DROP', 'DROP', 'DROP', 'DROP', 'DROP', 'DROP', 'DROP', 'DROP', 'DROP', 'DROP', 'DROP', 'DROP', 'DROP', 'DROP', 'DROP', 'DROP', 'DROP', 'DROP', 'DROP', 'DROP', 'DROP', 'DROP', 'DROP', 'DROP', 'DROP', 'DROP', 'DROP', 'DROP', 'DROP', 'DROP', 'DROP', 'DROP', 'DROP', 'DROP', 'DROP', 'DROP', 'DROP', 'DROP', 'DROP', 'DROP', 'DROP', 'DROP', 'DROP', 'DROP', 'DROP', 'DROP', 'DROP', 'DROP', 'DROP', 'DROP', 'DROP', 'Unemp_199001', 'Unemp_199002', 'Unemp_199003', 'Unemp_199004', 'Unemp_199005', 'Unemp_199006', 'Unemp_199007', 'Unemp_199008', 'Unemp_199009', 'Unemp_199010', 'Unemp_199011', 'Unemp_199012', 'Unemp_199101', 'Unemp_199102', 'Unemp_199103', 'Unemp_199104', 'Unemp_199105', 'Unemp_199106', 'Unemp_199107', 'Unemp_199108', 'Unemp_199109', 'Unemp_199110', 'Unemp_199111', 'Unemp_199112', 'Unemp_199201', 'Unemp_199202', 'Unemp_199203', 'Unemp_199204', 'Unemp_199205', 'Unemp_199206', 'Unemp_199207', 'Unemp_199208', 'Unemp_199209', 'Unemp_199210', 'Unemp_199211', 'Unemp_199212', 'Unemp_199301', 'Unemp_199302', 'Unemp_199303', 'Unemp_199304', 'Unemp_199305', 'Unemp_199306', 'Unemp_199307', 'Unemp_199308', 'Unemp_199309', 'Unemp_199310', 'Unemp_199311', 'Unemp_199312', 'Unemp_199401', 'Unemp_199402', 'Unemp_199403', 'Unemp_199404', 'Unemp_199405', 'Unemp_199406', 'Unemp_199407', 'Unemp_199408', 'Unemp_199409', 'Unemp_199410', 'Unemp_199411', 'Unemp_199412', 'Unemp_199501', 'Unemp_199502', 'Unemp_199503', 'Unemp_199504', 'Unemp_199505', 'Unemp_199506', 'Unemp_199507', 'Unemp_199508', 'Unemp_199509', 'Unemp_199510', 'Unemp_199511', 'Unemp_199512', 'Unemp_199601', 'Unemp_199602', 'Unemp_199603', 'Unemp_199604', 'Unemp_199605', 'Unemp_199606', 'Unemp_199607', 'Unemp_199608', 'Unemp_199609', 'Unemp_199610', 'Unemp_199611', 'Unemp_199612', 'Unemp_199701', 'Unemp_199702', 'Unemp_199703', 'Unemp_199704', 'Unemp_199705', 'Unemp_199706', 'Unemp_199707', 'Unemp_199708', 'Unemp_199709', 'Unemp_199710', 'Unemp_199711', 'Unemp_199712', 'Unemp_199801', 'Unemp_199802', 'Unemp_199803', 'Unemp_199804', 'Unemp_199805', 'Unemp_199806', 'Unemp_199807', 'Unemp_199808', 'Unemp_199809', 'Unemp_199810', 'Unemp_199811', 'Unemp_199812', 'Unemp_199901', 'Unemp_199902', 'Unemp_199903', 'Unemp_199904', 'Unemp_199905', 'Unemp_199906', 'Unemp_199907', 'Unemp_199908', 'Unemp_199909', 'Unemp_199910', 'Unemp_199911', 'Unemp_199912', 'Unemp_200001', 'Unemp_200002', 'Unemp_200003', 'Unemp_200004', 'Unemp_200005', 'Unemp_200006', 'Unemp_200007', 'Unemp_200008', 'Unemp_200009', 'Unemp_200010', 'Unemp_200011', 'Unemp_200012', 'Unemp_200101', 'Unemp_200102', 'Unemp_200103', 'Unemp_200104', 'Unemp_200105', 'Unemp_200106', 'Unemp_200107', 'Unemp_200108', 'Unemp_200109', 'Unemp_200110', 'Unemp_200111', 'Unemp_200112', 'Unemp_200201', 'Unemp_200202', 'Unemp_200203', 'Unemp_200204', 'Unemp_200205', 'Unemp_200206', 'Unemp_200207', 'Unemp_200208', 'Unemp_200209', 'Unemp_200210', 'Unemp_200211', 'Unemp_200212', 'Unemp_200301', 'Unemp_200302', 'Unemp_200303', 'Unemp_200304', 'Unemp_200305', 'Unemp_200306', 'Unemp_200307', 'Unemp_200308', 'Unemp_200309', 'Unemp_200310', 'Unemp_200311', 'Unemp_200312', 'Unemp_200401', 'Unemp_200402', 'Unemp_200403', 'Unemp_200404', 'Unemp_200405', 'Unemp_200406', 'Unemp_200407', 'Unemp_200408', 'Unemp_200409', 'Unemp_200410', 'Unemp_200411', 'Unemp_200412', 'Unemp_200501', 'Unemp_200502', 'Unemp_200503', 'Unemp_200504', 'Unemp_200505', 'Unemp_200506', 'Unemp_200507', 'Unemp_200508', 'Unemp_200509', 'Unemp_200510', 'Unemp_200511', 'Unemp_200512', 'Unemp_200601', 'Unemp_200602', 'Unemp_200603', 'Unemp_200604', 'Unemp_200605', 'Unemp_200606', 'Unemp_200607', 'Unemp_200608', 'Unemp_200609', 'Unemp_200610', 'Unemp_200611', 'Unemp_200612', 'Unemp_200701', 'Unemp_200702', 'Unemp_200703', 'Unemp_200704', 'Unemp_200705', 'Unemp_200706', 'Unemp_200707', 'Unemp_200708', 'Unemp_200709', 'Unemp_200710', 'Unemp_200711', 'Unemp_200712', 'Unemp_200801', 'Unemp_200802', 'Unemp_200803', 'Unemp_200804', 'Unemp_200805', 'Unemp_200806', 'Unemp_200807', 'Unemp_200808', 'Unemp_200809', 'Unemp_200810', 'Unemp_200811', 'Unemp_200812', 'Unemp_200901', 'Unemp_200902', 'Unemp_200903', 'Unemp_200904', 'Unemp_200905', 'Unemp_200906', 'Unemp_200907', 'Unemp_200908', 'Unemp_200909', 'Unemp_200910', 'Unemp_200911', 'Unemp_200912', 'Unemp_201001', 'Unemp_201002', 'Unemp_201003', 'Unemp_201004', 'Unemp_201005', 'Unemp_201006', 'Unemp_201007', 'Unemp_201008', 'Unemp_201009', 'Unemp_201010', 'Unemp_201011', 'Unemp_201012', 'Unemp_201101', 'Unemp_201102', 'Unemp_201103', 'Unemp_201104', 'Unemp_201105', 'Unemp_201106', 'Unemp_201107', 'Unemp_201108', 'Unemp_201109', 'Unemp_201110', 'Unemp_201111', 'Unemp_201112', 'Unemp_201201', 'Unemp_201202', 'Unemp_201203', 'Unemp_201204', 'Unemp_201205', 'Unemp_201206', 'Unemp_201207', 'Unemp_201208', 'Unemp_201209', 'Unemp_201210', 'Unemp_201211', 'Unemp_201212', 'Unemp_201301', 'Unemp_201302', 'Unemp_201303', 'Unemp_201304', 'Unemp_201305', 'Unemp_201306', 'Unemp_201307', 'Unemp_201308', 'Unemp_201309', 'Unemp_201310', 'Unemp_201311', 'Unemp_201312', 'Unemp_201401', 'Unemp_201402', 'Unemp_201403', 'Unemp_201404', 'Unemp_201405', 'Unemp_201406', 'Unemp_201407', 'Unemp_201408', 'Unemp_201409', 'Unemp_201410', 'Unemp_201411', 'Unemp_201412', 'Unemp_201501', 'Unemp_201502', 'Unemp_201503', 'Unemp_201504', 'Unemp_201505', 'Unemp_201506', 'Unemp_201507', 'Unemp_201508', 'Unemp_201509', 'Unemp_201510', 'Unemp_201511', 'Unemp_201512', 'Unemp_201601', 'Unemp_201602', 'Unemp_201603', 'Unemp_201604', 'Unemp_201605', 'Unemp_201606', 'Unemp_201607', 'Unemp_201608', 'Unemp_201609', 'Unemp_201610', 'Unemp_201611', 'Unemp_201612', 'Unemp_201701', 'Unemp_201702', 'Unemp_201703', 'Unemp_201704', 'Unemp_201705', 'Unemp_201706', 'Unemp_201707', 'Unemp_201708', 'Unemp_201709', 'Unemp_201710', 'Unemp_201711', 'Unemp_201712', 'Unemp_201801', 'Unemp_201802', 'Unemp_201803', 'Unemp_201804', 'Unemp_201805', 'Unemp_201806', 'Unemp_201807', 'Unemp_201808', 'Unemp_201809', 'Unemp_201810', 'Unemp_201811', 'Unemp_201812', 'Unemp_201901', 'Unemp_201902', 'Unemp_201903', 'Unemp_201904', 'Unemp_201905', 'Unemp_201906', 'Unemp_201907']\n"
     ]
    },
    {
     "data": {
      "text/html": [
       "<div>\n",
       "<style scoped>\n",
       "    .dataframe tbody tr th:only-of-type {\n",
       "        vertical-align: middle;\n",
       "    }\n",
       "\n",
       "    .dataframe tbody tr th {\n",
       "        vertical-align: top;\n",
       "    }\n",
       "\n",
       "    .dataframe thead th {\n",
       "        text-align: right;\n",
       "    }\n",
       "</style>\n",
       "<table border=\"1\" class=\"dataframe\">\n",
       "  <thead>\n",
       "    <tr style=\"text-align: right;\">\n",
       "      <th></th>\n",
       "      <th>FIPS</th>\n",
       "      <th>Unemp_199001</th>\n",
       "      <th>Unemp_199002</th>\n",
       "      <th>Unemp_199003</th>\n",
       "      <th>Unemp_199004</th>\n",
       "      <th>Unemp_199005</th>\n",
       "      <th>Unemp_199006</th>\n",
       "      <th>Unemp_199007</th>\n",
       "      <th>Unemp_199008</th>\n",
       "      <th>Unemp_199009</th>\n",
       "      <th>...</th>\n",
       "      <th>Unemp_201811</th>\n",
       "      <th>Unemp_201812</th>\n",
       "      <th>Unemp_201901</th>\n",
       "      <th>Unemp_201902</th>\n",
       "      <th>Unemp_201903</th>\n",
       "      <th>Unemp_201904</th>\n",
       "      <th>Unemp_201905</th>\n",
       "      <th>Unemp_201906</th>\n",
       "      <th>Unemp_201907</th>\n",
       "      <th>In Unemp</th>\n",
       "    </tr>\n",
       "  </thead>\n",
       "  <tbody>\n",
       "    <tr>\n",
       "      <th>0</th>\n",
       "      <td>45001</td>\n",
       "      <td>7.0</td>\n",
       "      <td>6.8</td>\n",
       "      <td>6.8</td>\n",
       "      <td>5.5</td>\n",
       "      <td>5.5</td>\n",
       "      <td>6.4</td>\n",
       "      <td>9.3</td>\n",
       "      <td>6.4</td>\n",
       "      <td>5.7</td>\n",
       "      <td>...</td>\n",
       "      <td>3.5</td>\n",
       "      <td>3.8</td>\n",
       "      <td>4.4</td>\n",
       "      <td>3.6</td>\n",
       "      <td>3.8</td>\n",
       "      <td>3.3</td>\n",
       "      <td>3.9</td>\n",
       "      <td>4.2</td>\n",
       "      <td>3.8</td>\n",
       "      <td>1</td>\n",
       "    </tr>\n",
       "    <tr>\n",
       "      <th>1</th>\n",
       "      <td>22001</td>\n",
       "      <td>5.7</td>\n",
       "      <td>5.1</td>\n",
       "      <td>5.1</td>\n",
       "      <td>4.8</td>\n",
       "      <td>5.6</td>\n",
       "      <td>7.1</td>\n",
       "      <td>9.6</td>\n",
       "      <td>8.1</td>\n",
       "      <td>7.3</td>\n",
       "      <td>...</td>\n",
       "      <td>4.8</td>\n",
       "      <td>4.8</td>\n",
       "      <td>5.7</td>\n",
       "      <td>4.8</td>\n",
       "      <td>4.2</td>\n",
       "      <td>3.9</td>\n",
       "      <td>4.6</td>\n",
       "      <td>5.8</td>\n",
       "      <td>5.5</td>\n",
       "      <td>1</td>\n",
       "    </tr>\n",
       "    <tr>\n",
       "      <th>2</th>\n",
       "      <td>51001</td>\n",
       "      <td>8.3</td>\n",
       "      <td>8.1</td>\n",
       "      <td>6.7</td>\n",
       "      <td>5.4</td>\n",
       "      <td>4.4</td>\n",
       "      <td>3.7</td>\n",
       "      <td>3.1</td>\n",
       "      <td>5.2</td>\n",
       "      <td>5.0</td>\n",
       "      <td>...</td>\n",
       "      <td>3.1</td>\n",
       "      <td>3.8</td>\n",
       "      <td>5.1</td>\n",
       "      <td>4.8</td>\n",
       "      <td>4.0</td>\n",
       "      <td>3.3</td>\n",
       "      <td>3.3</td>\n",
       "      <td>3.2</td>\n",
       "      <td>3.1</td>\n",
       "      <td>1</td>\n",
       "    </tr>\n",
       "    <tr>\n",
       "      <th>3</th>\n",
       "      <td>16001</td>\n",
       "      <td>4.5</td>\n",
       "      <td>4.5</td>\n",
       "      <td>3.9</td>\n",
       "      <td>3.3</td>\n",
       "      <td>3.2</td>\n",
       "      <td>3.6</td>\n",
       "      <td>3.2</td>\n",
       "      <td>3.2</td>\n",
       "      <td>3.6</td>\n",
       "      <td>...</td>\n",
       "      <td>2.3</td>\n",
       "      <td>2.4</td>\n",
       "      <td>3.3</td>\n",
       "      <td>2.9</td>\n",
       "      <td>2.7</td>\n",
       "      <td>2.2</td>\n",
       "      <td>2.1</td>\n",
       "      <td>2.4</td>\n",
       "      <td>2.5</td>\n",
       "      <td>1</td>\n",
       "    </tr>\n",
       "    <tr>\n",
       "      <th>4</th>\n",
       "      <td>19001</td>\n",
       "      <td>4.0</td>\n",
       "      <td>3.7</td>\n",
       "      <td>3.3</td>\n",
       "      <td>2.5</td>\n",
       "      <td>1.6</td>\n",
       "      <td>1.9</td>\n",
       "      <td>1.9</td>\n",
       "      <td>2.1</td>\n",
       "      <td>1.8</td>\n",
       "      <td>...</td>\n",
       "      <td>1.7</td>\n",
       "      <td>2.1</td>\n",
       "      <td>2.9</td>\n",
       "      <td>2.9</td>\n",
       "      <td>2.7</td>\n",
       "      <td>2.0</td>\n",
       "      <td>1.9</td>\n",
       "      <td>2.1</td>\n",
       "      <td>2.1</td>\n",
       "      <td>1</td>\n",
       "    </tr>\n",
       "  </tbody>\n",
       "</table>\n",
       "<p>5 rows × 357 columns</p>\n",
       "</div>"
      ],
      "text/plain": [
       "    FIPS  Unemp_199001  Unemp_199002  Unemp_199003  Unemp_199004  \\\n",
       "0  45001           7.0           6.8           6.8           5.5   \n",
       "1  22001           5.7           5.1           5.1           4.8   \n",
       "2  51001           8.3           8.1           6.7           5.4   \n",
       "3  16001           4.5           4.5           3.9           3.3   \n",
       "4  19001           4.0           3.7           3.3           2.5   \n",
       "\n",
       "   Unemp_199005  Unemp_199006  Unemp_199007  Unemp_199008  Unemp_199009  ...  \\\n",
       "0           5.5           6.4           9.3           6.4           5.7  ...   \n",
       "1           5.6           7.1           9.6           8.1           7.3  ...   \n",
       "2           4.4           3.7           3.1           5.2           5.0  ...   \n",
       "3           3.2           3.6           3.2           3.2           3.6  ...   \n",
       "4           1.6           1.9           1.9           2.1           1.8  ...   \n",
       "\n",
       "   Unemp_201811  Unemp_201812  Unemp_201901  Unemp_201902  Unemp_201903  \\\n",
       "0           3.5           3.8           4.4           3.6           3.8   \n",
       "1           4.8           4.8           5.7           4.8           4.2   \n",
       "2           3.1           3.8           5.1           4.8           4.0   \n",
       "3           2.3           2.4           3.3           2.9           2.7   \n",
       "4           1.7           2.1           2.9           2.9           2.7   \n",
       "\n",
       "   Unemp_201904  Unemp_201905  Unemp_201906  Unemp_201907  In Unemp  \n",
       "0           3.3           3.9           4.2           3.8         1  \n",
       "1           3.9           4.6           5.8           5.5         1  \n",
       "2           3.3           3.3           3.2           3.1         1  \n",
       "3           2.2           2.1           2.4           2.5         1  \n",
       "4           2.0           1.9           2.1           2.1         1  \n",
       "\n",
       "[5 rows x 357 columns]"
      ]
     },
     "execution_count": 135,
     "metadata": {},
     "output_type": "execute_result"
    }
   ],
   "source": [
    "xlsfile = os.path.join(raw_loc,'GeoFRED_Unemployment_Rate_by_County_Percent2.xls')\n",
    "xl = pd.ExcelFile(xlsfile)\n",
    "df0 = xl.parse('Sheet0')\n",
    "df0.drop(columns =['Series ID'], inplace = True) \n",
    "\n",
    "df1 = xl.parse('Sheet1')\n",
    "df1.drop(columns =['Series ID','Region Name'], inplace = True) \n",
    "\n",
    "df2 = xl.parse('Sheet2')\n",
    "df2.drop(columns =['Series ID','Region Name'], inplace = True) \n",
    "\n",
    "unemp = pd.merge(df0,pd.merge(df1,df2,on='Region Code'),on='Region Code')\n",
    "cols_in = unemp.columns\n",
    "print('Original Column Names:')\n",
    "print(cols_in)\n",
    "cols_rename = []\n",
    "\n",
    "for col in cols_in:\n",
    "    \n",
    "    if col == 'Region Code':\n",
    "        cols_rename.append('FIPS')\n",
    "    elif col in ('Series ID','Region Name') or col[0:3] in ('198','197'):\n",
    "        cols_rename.append('DROP')\n",
    "    elif \"January\" in col:\n",
    "        cols_rename.append(f\"Unemp_{col[0:4]}01\")\n",
    "    elif \"February\" in col:\n",
    "        cols_rename.append(f\"Unemp_{col[0:4]}02\")\n",
    "    elif \"March\" in col:\n",
    "        cols_rename.append(f\"Unemp_{col[0:4]}03\")\n",
    "    elif \"April\" in col:\n",
    "        cols_rename.append(f\"Unemp_{col[0:4]}04\")\n",
    "    elif \"May\" in col:\n",
    "        cols_rename.append(f\"Unemp_{col[0:4]}05\")\n",
    "    elif \"June\" in col:\n",
    "        cols_rename.append(f\"Unemp_{col[0:4]}06\")\n",
    "    elif \"July\" in col:\n",
    "        cols_rename.append(f\"Unemp_{col[0:4]}07\")\n",
    "    elif \"August\" in col:\n",
    "        cols_rename.append(f\"Unemp_{col[0:4]}08\")\n",
    "    elif \"September\" in col:\n",
    "        cols_rename.append(f\"Unemp_{col[0:4]}09\")\n",
    "    elif \"October\" in col:\n",
    "        cols_rename.append(f\"Unemp_{col[0:4]}10\")\n",
    "    elif \"November\" in col:\n",
    "        cols_rename.append(f\"Unemp_{col[0:4]}11\")\n",
    "    elif \"December\" in col:\n",
    "        cols_rename.append(f\"Unemp_{col[0:4]}12\")\n",
    "    else:\n",
    "        cols_rename.append(col)\n",
    "\n",
    "print('Renamed Column Names:')\n",
    "print(cols_rename)\n",
    "\n",
    "# Reset the column names\n",
    "unemp.columns = cols_rename\n",
    "\n",
    "# Get rid of dropped columns\n",
    "unemp.drop(columns =['DROP'], inplace = True) \n",
    "unemp[\"In Unemp\"] = 1\n",
    "\n",
    "\n",
    "# Make sure the fips codes have leading zeros.\n",
    "for obs in range(0,len(unemp)):\n",
    "    if len(str(unemp.loc[obs,'FIPS'])) == 4:\n",
    "        unemp.loc[obs,'FIPS'] = f\"0{unemp.loc[obs,'FIPS']}\"\n",
    "    else:\n",
    "        unemp.loc[obs,'FIPS'] = f\"{unemp.loc[obs,'FIPS']}\"\n",
    "        \n",
    "    # 46113 was renamed from Shannon County to Oglala Lakota County, SD in May 2015.  Oglala should have FIPS 46102 but\n",
    "    # 46102 is not found on the big geojson file so we reset 46102 to 46113.\n",
    "    if str(unemp.loc[obs,'FIPS']) == '46102':\n",
    "        unemp.loc[obs,'FIPS'] = '46113'\n",
    "\n",
    "unemp.head()"
   ]
  },
  {
   "cell_type": "code",
   "execution_count": 136,
   "metadata": {},
   "outputs": [],
   "source": [
    "# Start with 201001\n",
    "geo_file = os.path.join(clean_loc,'FinalGeoFile2000.json')\n",
    "data_to_plot = unemp[['FIPS','Unemp_200001']]"
   ]
  },
  {
   "cell_type": "code",
   "execution_count": 191,
   "metadata": {},
   "outputs": [],
   "source": [
    "# select unemployment from 200001 for each county\n",
    "umax = math.ceil(unemp['Unemp_200001'].max()) + 1\n",
    "legend_values = []\n",
    "for x in range(umax):\n",
    "    legend_values.append(x)"
   ]
  },
  {
   "cell_type": "code",
   "execution_count": 196,
   "metadata": {},
   "outputs": [],
   "source": [
    "# Setup a folium map at a high-level zoom\n",
    "umap_200001 = folium.Map(location=[39.82, -98.58], zoom_start=3.5)\n",
    "\n",
    "# choropleth maps bind Pandas Data Frames and json geometries.\n",
    "#This allows us to quickly visualize data combinations\n",
    "umap_200001.choropleth(geo_data=geo_file, data=data_to_plot,\n",
    "             columns=['FIPS', 'Unemp_200001'],\n",
    "             key_on='feature.properties.FIPS',\n",
    "             fill_color='YlOrRd', \n",
    "             threshold_scale = [0,1,2,3,4,5,6,7,8,umax],\n",
    "             fill_opacity=0.7, line_opacity=0.5,\n",
    "             legend_name='test')"
   ]
  },
  {
   "cell_type": "code",
   "execution_count": 194,
   "metadata": {
    "scrolled": false
   },
   "outputs": [
    {
     "data": {
      "text/html": [
       "<iframe src=umap_200001.html width=750 height=450></iframe>"
      ],
      "text/plain": [
       "<IPython.core.display.HTML object>"
      ]
     },
     "execution_count": 194,
     "metadata": {},
     "output_type": "execute_result"
    }
   ],
   "source": [
    "umap_200001.save('umap_200001.html')\n",
    "# Import the Folium interactive html file\n",
    "\n",
    "\n",
    "from IPython.display import HTML\n",
    "HTML('<iframe src=umap_200001.html width=750 height=450></iframe>')"
   ]
  },
  {
   "cell_type": "code",
   "execution_count": 149,
   "metadata": {},
   "outputs": [
    {
     "data": {
      "text/plain": [
       "6.1"
      ]
     },
     "execution_count": 149,
     "metadata": {},
     "output_type": "execute_result"
    }
   ],
   "source": [
    "unemployment_dict = data_to_plot.set_index('FIPS')['Unemp_200001']\n",
    "unemployment_dict['22001']\n",
    "#unemployment_dict['02201']\n"
   ]
  },
  {
   "cell_type": "code",
   "execution_count": 288,
   "metadata": {},
   "outputs": [],
   "source": [
    "def unemp_colors2(feature):\n",
    "    \n",
    "    try: \n",
    "        test_value = unemployment_dict[feature['properties']['FIPS']]\n",
    "    except:\n",
    "        test_value = -1\n",
    "        \n",
    "    #print(test_value)\n",
    "    \n",
    "    \"\"\"Maps low values to green and hugh values to red.\"\"\"\n",
    "    if test_value > 9:\n",
    "        return '#a50026' \n",
    "    elif test_value > 8:\n",
    "        return '#d73027'\n",
    "    elif test_value > 7:\n",
    "        return '#f46d43'\n",
    "    elif test_value > 6:\n",
    "        return  '#fdae61' \n",
    "    elif test_value > 5:\n",
    "        return '#fee08b'\n",
    "    elif test_value > 4:\n",
    "        return '#d9ef8b'\n",
    "    elif test_value > 3:\n",
    "        return '#a6d96a'\n",
    "    elif test_value > 2:\n",
    "        return '#66bd63'\n",
    "    elif test_value > 1:\n",
    "        return '#1a9850' \n",
    "    elif test_value > 0:\n",
    "        return '#006837'\n",
    "    else:\n",
    "        return \"#lightgray\"\n",
    "    "
   ]
  },
  {
   "cell_type": "code",
   "execution_count": 290,
   "metadata": {
    "scrolled": false
   },
   "outputs": [
    {
     "data": {
      "text/html": [
       "<iframe src=C:\\Users\\laslo\\OneDrive\\Documents\\Maria\\MapAnimation\\map_html\\umap_200001.html width=750 height=450></iframe>"
      ],
      "text/plain": [
       "<IPython.core.display.HTML object>"
      ]
     },
     "execution_count": 290,
     "metadata": {},
     "output_type": "execute_result"
    }
   ],
   "source": [
    "\n",
    "m2 = folium.Map([43,-100], tiles='cartodbpositron', zoom_start=4.25)\n",
    "\n",
    "folium.GeoJson(\n",
    "    geo_file,\n",
    "    style_function=lambda feature: {\n",
    "        'fillColor': unemp_colors2(feature),\n",
    "        'fillOpacity' : '0.9',\n",
    "        'color' : 'black',\n",
    "        'weight' : 1\n",
    "        },   \n",
    "    highlight_function=lambda x: {'weight':2, \n",
    "                                  'fillOpacity':1},    \n",
    "    tooltip=folium.features.GeoJsonTooltip(\n",
    "            fields=['CountyName','StateAbbr','Unemp_200001'],\n",
    "            aliases=['County Name:', 'State:','Unemployment Rate January 2000:'])      \n",
    "    ).add_to(m2)\n",
    "\n",
    "save_html = os.path.join(map_html,'umap_200001.html')\n",
    "save_png = os.path.join(map_png,'umap_200001.png')\n",
    "m2.save(save_html)\n",
    "# Import the Folium interactive html file\n",
    "\n",
    "HTML(f'<iframe src={save_html} width=750 height=450></iframe>')"
   ]
  },
  {
   "cell_type": "code",
   "execution_count": 291,
   "metadata": {
    "scrolled": false
   },
   "outputs": [],
   "source": [
    "legend_html = '''\n",
    "     <div style=\"position: fixed; \n",
    "                 bottom: 0;\n",
    "                 right: 0;\n",
    "                 padding: 6px 8px;\n",
    "                 width: 20%;\n",
    "                 font: 12px Arial, Helvetica, sans-serif;\n",
    "                 font-weight: bold;\n",
    "                 background: #8d8a8d;\n",
    "                 border-radius: 5px;\n",
    "                 box-shadow: 0 0 15px rgba(0, 0, 0, 0.2);\n",
    "                 line-height: 18px;\n",
    "                 color: 'black';\">\n",
    "\n",
    "     <ul>\n",
    "     <i style=\"background: #a50026\"> &nbsp &nbsp</i> 9+ <br>\n",
    "     <i style=\"background: #d73027\"> &nbsp &nbsp</i> 8 - 9<br>\n",
    "     <i style=\"background: #f46d43\"> &nbsp &nbsp</i> 7 - 8<br>\n",
    "     <i style=\"background: #fdae61\"> &nbsp &nbsp</i> 6 - 7<br>\n",
    "     <i style=\"background: #fee08b\"> &nbsp &nbsp</i> 5 - 6<br>\n",
    "     <i style=\"background: #d9ef8b\"> &nbsp &nbsp</i> 4 - 5<br>\n",
    "     <i style=\"background: #a6d96a\"> &nbsp &nbsp</i> 3 - 4<br>\n",
    "     <i style=\"background: #66bd63\"> &nbsp &nbsp</i> 2 - 3<br>\n",
    "     <i style=\"background: #1a9850\"> &nbsp &nbsp</i> 1 - 2<br>\n",
    "     <i style=\"background: #006837\"> &nbsp &nbsp</i> 0 - 1<br>\n",
    "     </ul>\n",
    "      </div>\n",
    "     '''\n",
    "m2.get_root().html.add_child(folium.Element(legend_html))\n",
    "m2.save('umap_200001_legend.html')\n",
    "\n",
    "# Import the Folium interactive html file\n",
    "\n",
    "#HTML('<iframe src=umap_200001_legend.html width=750 height=450></iframe>')"
   ]
  },
  {
   "cell_type": "code",
   "execution_count": 284,
   "metadata": {},
   "outputs": [],
   "source": [
    "\n",
    "#Save the map as an HTML file\n",
    "tmpurl=f'file://{save_html}'.format(path=os.getcwd(),mapfile=save_html)\n",
    " \n",
    "#Open a browser window...\n",
    "browser = webdriver.Chrome()\n",
    "#..that displays the map...\n",
    "browser.get(save_html)\n",
    "#Give the map tiles some time to load\n",
    "time.sleep(5)\n",
    "#Grab the screenshot\n",
    "browser.save_screenshot(save_png)\n",
    "#Close the browser\n",
    "browser.quit()"
   ]
  },
  {
   "cell_type": "code",
   "execution_count": 306,
   "metadata": {},
   "outputs": [],
   "source": [
    "dates = [\"1960-04-01T00:00:00.000Z\",\"1961-03-31T00:00:00.000Z\"]"
   ]
  },
  {
   "cell_type": "code",
   "execution_count": 307,
   "metadata": {},
   "outputs": [
    {
     "name": "stdout",
     "output_type": "stream",
     "text": [
      "Date read: 1960-04-01T00:00:00.000Z.\n",
      "d=1\n",
      "m=4\n",
      "y=1960\n",
      "Date output: 1960-04-01.\n",
      "Date read: 1961-03-31T00:00:00.000Z.\n",
      "d=31\n",
      "m=3\n",
      "y=1961\n",
      "Date output: 1961-03-31.\n",
      "Date 1 (1960-04-01) less than date 2 (1961-03-31)\n"
     ]
    }
   ],
   "source": [
    "import datetime\n",
    "\n",
    "dates2 = []\n",
    "for dt in dates:\n",
    "    \n",
    "    dt2 = dt[0:10]\n",
    "    y, m, d = [int(x) for x in dt2.split('-')] \n",
    "  \n",
    "    print(f'Date read: {dt}.')\n",
    "    print(f'd={d}')\n",
    "    print(f'm={m}')\n",
    "    print(f'y={y}')\n",
    "    \n",
    "    datef = datetime.date(y, m, d) \n",
    "  \n",
    "    print(f'Date output: {datef}.')\n",
    "    dates2.append(datef)\n",
    "    \n",
    "if dates2[0] > dates2[1]:\n",
    "    print(f\"Date 1 ({dates2[0]}) greater than date 2 ({dates2[1]})\")\n",
    "    \n",
    "elif dates2[0] < dates2[1]:\n",
    "    print(f\"Date 1 ({dates2[0]}) less than date 2 ({dates2[1]})\")\n",
    "elif dates2[0] == dates2[1]:\n",
    "    print(f\"Date 1 ({dates2[0]}) same as date 2 ({dates2[1]})\")"
   ]
  },
  {
   "cell_type": "code",
   "execution_count": 313,
   "metadata": {},
   "outputs": [
    {
     "name": "stdout",
     "output_type": "stream",
     "text": [
      "1990-10-03\n"
     ]
    }
   ],
   "source": [
    "timepoint='1990-10-23'\n",
    "\n",
    "date2check = datetime.date(int(timepoint[0:4]), int(timepoint[5:7]), int(timepoint[9:11]))\n",
    "print(date2check)"
   ]
  },
  {
   "cell_type": "code",
   "execution_count": 314,
   "metadata": {},
   "outputs": [
    {
     "data": {
      "text/plain": [
       "4"
      ]
     },
     "execution_count": 314,
     "metadata": {},
     "output_type": "execute_result"
    }
   ],
   "source": [
    "place = timepoint.find('-')\n",
    "place"
   ]
  },
  {
   "cell_type": "code",
   "execution_count": 316,
   "metadata": {},
   "outputs": [
    {
     "data": {
      "text/plain": [
       "'03-31T00:00:00.000Z'"
      ]
     },
     "execution_count": 316,
     "metadata": {},
     "output_type": "execute_result"
    }
   ],
   "source": [
    "test = \"1961-03-31T00:00:00.000Z\"\n",
    "test2 = test[test.find('-')+1:]\n",
    "test2"
   ]
  },
  {
   "cell_type": "code",
   "execution_count": 319,
   "metadata": {},
   "outputs": [
    {
     "data": {
      "text/plain": [
       "{'STATEFP': '22', 'COUNTYFP': '001'}"
      ]
     },
     "execution_count": 319,
     "metadata": {},
     "output_type": "execute_result"
    }
   ],
   "source": [
    "# Create a dictionary to hold state and county fips codes\n",
    "# fipsdict has the state and county associated with each fips code\n",
    "fipsdict = {}\n",
    "\n",
    "# Go through the list of counties in our data and make sure each is \n",
    "# represented in the fipsdict. This will allow us to have FIPS, STATEFP,\n",
    "# and COUNTYFP on each geojson file.\n",
    "for row, rowvals in unemp.iterrows():\n",
    "    \n",
    "    # pull information from dataframe into temporary variables\n",
    "    FIPS = str(rowvals[0])\n",
    "    STATEFP = str(FIPS)[0:2]\n",
    "    COUNTYFP = str(FIPS)[2:5]\n",
    "    \n",
    "    # If we have not yet seen this FIPS code, add it to the dictionary\n",
    "    if FIPS not in fipsdict:\n",
    "        fipsdict[FIPS]={}\n",
    " \n",
    "    # Append the data for this county to its entry in the dictionary\n",
    "    fipsdict[FIPS]={\n",
    "        \"STATEFP\": STATEFP,\n",
    "        \"COUNTYFP\": COUNTYFP}\n",
    "    \n",
    "featureData = fipsdict.get('22001', {})\n",
    "featureData"
   ]
  },
  {
   "cell_type": "code",
   "execution_count": null,
   "metadata": {},
   "outputs": [],
   "source": []
  }
 ],
 "metadata": {
  "kernelspec": {
   "display_name": "Python 3",
   "language": "python",
   "name": "python3"
  },
  "language_info": {
   "codemirror_mode": {
    "name": "ipython",
    "version": 3
   },
   "file_extension": ".py",
   "mimetype": "text/x-python",
   "name": "python",
   "nbconvert_exporter": "python",
   "pygments_lexer": "ipython3",
   "version": "3.7.3"
  }
 },
 "nbformat": 4,
 "nbformat_minor": 2
}
