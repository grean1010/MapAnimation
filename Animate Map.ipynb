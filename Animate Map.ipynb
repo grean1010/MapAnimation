{
 "cells": [
  {
   "cell_type": "code",
   "execution_count": 51,
   "metadata": {},
   "outputs": [
    {
     "name": "stdout",
     "output_type": "stream",
     "text": [
      "Min height:  843\n",
      "Min width:  1295\n"
     ]
    }
   ],
   "source": [
    "import imageio\n",
    "import glob\n",
    "import os\n",
    "from PIL import Image \n",
    "\n",
    "base_loc = os.path.join('C:\\\\','Users','laslo','OneDrive','Documents','Maria','MapAnimation')\n",
    "png_path = os.path.join(base_loc,'map_png')\n",
    "temp_file = os.path.join(png_path,'temp.png')\n",
    "\n",
    "name = 'UnemploymentMap_'\n",
    "\n",
    "# Go through the images and find the smallest height and width\n",
    "fileList = []\n",
    "min_h = 10000\n",
    "min_w = 10000\n",
    "\n",
    "for file in os.listdir(png_path):\n",
    "    \n",
    "    if file.startswith(name):\n",
    "        \n",
    "        # Find the complete path name of each image and add to the list\n",
    "        complete_path = os.path.join(png_path,file)        \n",
    "        fileList.append(complete_path)\n",
    "        \n",
    "        # check to see if this is the lowers height/width so far. Update if it is.\n",
    "        img = Image.open(complete_path) \n",
    "        width, height = img.size\n",
    "        \n",
    "        if width < min_w:\n",
    "            min_w = width\n",
    "    \n",
    "        if height < min_h:\n",
    "            min_h = height\n",
    "            \n",
    "print(f\"Min height:  {min_h}\")\n",
    "print(f\"Min width:  {min_w}\")\n",
    "            "
   ]
  },
  {
   "cell_type": "code",
   "execution_count": 55,
   "metadata": {},
   "outputs": [
    {
     "name": "stderr",
     "output_type": "stream",
     "text": [
      "IMAGEIO FFMPEG_WRITER WARNING: input image is not divisible by macro_block_size=16, resizing from (1295, 843) to (1296, 848) to ensure video compatibility with most codecs and players. To prevent resizing, make your input image divisible by the macro_block_size or set the macro_block_size to 1 (risking incompatibility).\n"
     ]
    }
   ],
   "source": [
    "writer = imageio.get_writer('UnemploymentAnimation.mp4', fps=6)\n",
    "\n",
    "for im in fileList:\n",
    "    \n",
    "    # to resize and set the new width and height \n",
    "    img = Image.open(im)\n",
    "\n",
    "    width, height = img.size\n",
    "    top = int((height - min_h)/2)\n",
    "    bottom = int(height - (height - min_h)/2)\n",
    "    left = int((width - min_w)/2)\n",
    "    right = int(width - (width - min_w)/2)\n",
    "    cropped = img.crop((left,top,right,bottom))\n",
    "    cropped.save(temp_file)\n",
    "    \n",
    "    writer.append_data(imageio.imread(temp_file))\n",
    "    \n",
    "writer.close()"
   ]
  },
  {
   "cell_type": "code",
   "execution_count": null,
   "metadata": {},
   "outputs": [],
   "source": []
  }
 ],
 "metadata": {
  "kernelspec": {
   "display_name": "Python 3",
   "language": "python",
   "name": "python3"
  },
  "language_info": {
   "codemirror_mode": {
    "name": "ipython",
    "version": 3
   },
   "file_extension": ".py",
   "mimetype": "text/x-python",
   "name": "python",
   "nbconvert_exporter": "python",
   "pygments_lexer": "ipython3",
   "version": "3.7.3"
  }
 },
 "nbformat": 4,
 "nbformat_minor": 2
}
